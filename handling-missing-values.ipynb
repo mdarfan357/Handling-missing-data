{
 "cells": [
  {
   "cell_type": "code",
   "execution_count": 1,
   "id": "7a170511",
   "metadata": {
    "execution": {
     "iopub.execute_input": "2023-06-28T18:01:17.120121Z",
     "iopub.status.busy": "2023-06-28T18:01:17.119389Z",
     "iopub.status.idle": "2023-06-28T18:01:17.130243Z",
     "shell.execute_reply": "2023-06-28T18:01:17.129468Z"
    },
    "papermill": {
     "duration": 0.024196,
     "end_time": "2023-06-28T18:01:17.132821",
     "exception": false,
     "start_time": "2023-06-28T18:01:17.108625",
     "status": "completed"
    },
    "tags": []
   },
   "outputs": [],
   "source": [
    "import pandas as pd\n",
    "from pandas.api.types import is_string_dtype\n",
    "from pandas.api.types import is_numeric_dtype\n",
    "import numpy as np"
   ]
  },
  {
   "cell_type": "code",
   "execution_count": 2,
   "id": "63e3b8a1",
   "metadata": {
    "execution": {
     "iopub.execute_input": "2023-06-28T18:01:17.151279Z",
     "iopub.status.busy": "2023-06-28T18:01:17.150880Z",
     "iopub.status.idle": "2023-06-28T18:01:17.258352Z",
     "shell.execute_reply": "2023-06-28T18:01:17.257205Z"
    },
    "papermill": {
     "duration": 0.119612,
     "end_time": "2023-06-28T18:01:17.260908",
     "exception": false,
     "start_time": "2023-06-28T18:01:17.141296",
     "status": "completed"
    },
    "tags": []
   },
   "outputs": [
    {
     "data": {
      "text/html": [
       "<div>\n",
       "<style scoped>\n",
       "    .dataframe tbody tr th:only-of-type {\n",
       "        vertical-align: middle;\n",
       "    }\n",
       "\n",
       "    .dataframe tbody tr th {\n",
       "        vertical-align: top;\n",
       "    }\n",
       "\n",
       "    .dataframe thead th {\n",
       "        text-align: right;\n",
       "    }\n",
       "</style>\n",
       "<table border=\"1\" class=\"dataframe\">\n",
       "  <thead>\n",
       "    <tr style=\"text-align: right;\">\n",
       "      <th></th>\n",
       "      <th>MSSubClass</th>\n",
       "      <th>MSZoning</th>\n",
       "      <th>LotFrontage</th>\n",
       "      <th>LotArea</th>\n",
       "      <th>Street</th>\n",
       "      <th>Alley</th>\n",
       "      <th>LotShape</th>\n",
       "      <th>LandContour</th>\n",
       "      <th>Utilities</th>\n",
       "      <th>LotConfig</th>\n",
       "      <th>...</th>\n",
       "      <th>PoolArea</th>\n",
       "      <th>PoolQC</th>\n",
       "      <th>Fence</th>\n",
       "      <th>MiscFeature</th>\n",
       "      <th>MiscVal</th>\n",
       "      <th>MoSold</th>\n",
       "      <th>YrSold</th>\n",
       "      <th>SaleType</th>\n",
       "      <th>SaleCondition</th>\n",
       "      <th>SalePrice</th>\n",
       "    </tr>\n",
       "    <tr>\n",
       "      <th>Id</th>\n",
       "      <th></th>\n",
       "      <th></th>\n",
       "      <th></th>\n",
       "      <th></th>\n",
       "      <th></th>\n",
       "      <th></th>\n",
       "      <th></th>\n",
       "      <th></th>\n",
       "      <th></th>\n",
       "      <th></th>\n",
       "      <th></th>\n",
       "      <th></th>\n",
       "      <th></th>\n",
       "      <th></th>\n",
       "      <th></th>\n",
       "      <th></th>\n",
       "      <th></th>\n",
       "      <th></th>\n",
       "      <th></th>\n",
       "      <th></th>\n",
       "      <th></th>\n",
       "    </tr>\n",
       "  </thead>\n",
       "  <tbody>\n",
       "    <tr>\n",
       "      <th>1</th>\n",
       "      <td>60</td>\n",
       "      <td>RL</td>\n",
       "      <td>65.0</td>\n",
       "      <td>8450</td>\n",
       "      <td>Pave</td>\n",
       "      <td>NaN</td>\n",
       "      <td>Reg</td>\n",
       "      <td>Lvl</td>\n",
       "      <td>AllPub</td>\n",
       "      <td>Inside</td>\n",
       "      <td>...</td>\n",
       "      <td>0</td>\n",
       "      <td>NaN</td>\n",
       "      <td>NaN</td>\n",
       "      <td>NaN</td>\n",
       "      <td>0</td>\n",
       "      <td>2</td>\n",
       "      <td>2008</td>\n",
       "      <td>WD</td>\n",
       "      <td>Normal</td>\n",
       "      <td>208500</td>\n",
       "    </tr>\n",
       "    <tr>\n",
       "      <th>2</th>\n",
       "      <td>20</td>\n",
       "      <td>RL</td>\n",
       "      <td>80.0</td>\n",
       "      <td>9600</td>\n",
       "      <td>Pave</td>\n",
       "      <td>NaN</td>\n",
       "      <td>Reg</td>\n",
       "      <td>Lvl</td>\n",
       "      <td>AllPub</td>\n",
       "      <td>FR2</td>\n",
       "      <td>...</td>\n",
       "      <td>0</td>\n",
       "      <td>NaN</td>\n",
       "      <td>NaN</td>\n",
       "      <td>NaN</td>\n",
       "      <td>0</td>\n",
       "      <td>5</td>\n",
       "      <td>2007</td>\n",
       "      <td>WD</td>\n",
       "      <td>Normal</td>\n",
       "      <td>181500</td>\n",
       "    </tr>\n",
       "    <tr>\n",
       "      <th>3</th>\n",
       "      <td>60</td>\n",
       "      <td>RL</td>\n",
       "      <td>68.0</td>\n",
       "      <td>11250</td>\n",
       "      <td>Pave</td>\n",
       "      <td>NaN</td>\n",
       "      <td>IR1</td>\n",
       "      <td>Lvl</td>\n",
       "      <td>AllPub</td>\n",
       "      <td>Inside</td>\n",
       "      <td>...</td>\n",
       "      <td>0</td>\n",
       "      <td>NaN</td>\n",
       "      <td>NaN</td>\n",
       "      <td>NaN</td>\n",
       "      <td>0</td>\n",
       "      <td>9</td>\n",
       "      <td>2008</td>\n",
       "      <td>WD</td>\n",
       "      <td>Normal</td>\n",
       "      <td>223500</td>\n",
       "    </tr>\n",
       "    <tr>\n",
       "      <th>4</th>\n",
       "      <td>70</td>\n",
       "      <td>RL</td>\n",
       "      <td>60.0</td>\n",
       "      <td>9550</td>\n",
       "      <td>Pave</td>\n",
       "      <td>NaN</td>\n",
       "      <td>IR1</td>\n",
       "      <td>Lvl</td>\n",
       "      <td>AllPub</td>\n",
       "      <td>Corner</td>\n",
       "      <td>...</td>\n",
       "      <td>0</td>\n",
       "      <td>NaN</td>\n",
       "      <td>NaN</td>\n",
       "      <td>NaN</td>\n",
       "      <td>0</td>\n",
       "      <td>2</td>\n",
       "      <td>2006</td>\n",
       "      <td>WD</td>\n",
       "      <td>Abnorml</td>\n",
       "      <td>140000</td>\n",
       "    </tr>\n",
       "    <tr>\n",
       "      <th>5</th>\n",
       "      <td>60</td>\n",
       "      <td>RL</td>\n",
       "      <td>84.0</td>\n",
       "      <td>14260</td>\n",
       "      <td>Pave</td>\n",
       "      <td>NaN</td>\n",
       "      <td>IR1</td>\n",
       "      <td>Lvl</td>\n",
       "      <td>AllPub</td>\n",
       "      <td>FR2</td>\n",
       "      <td>...</td>\n",
       "      <td>0</td>\n",
       "      <td>NaN</td>\n",
       "      <td>NaN</td>\n",
       "      <td>NaN</td>\n",
       "      <td>0</td>\n",
       "      <td>12</td>\n",
       "      <td>2008</td>\n",
       "      <td>WD</td>\n",
       "      <td>Normal</td>\n",
       "      <td>250000</td>\n",
       "    </tr>\n",
       "    <tr>\n",
       "      <th>...</th>\n",
       "      <td>...</td>\n",
       "      <td>...</td>\n",
       "      <td>...</td>\n",
       "      <td>...</td>\n",
       "      <td>...</td>\n",
       "      <td>...</td>\n",
       "      <td>...</td>\n",
       "      <td>...</td>\n",
       "      <td>...</td>\n",
       "      <td>...</td>\n",
       "      <td>...</td>\n",
       "      <td>...</td>\n",
       "      <td>...</td>\n",
       "      <td>...</td>\n",
       "      <td>...</td>\n",
       "      <td>...</td>\n",
       "      <td>...</td>\n",
       "      <td>...</td>\n",
       "      <td>...</td>\n",
       "      <td>...</td>\n",
       "      <td>...</td>\n",
       "    </tr>\n",
       "    <tr>\n",
       "      <th>1456</th>\n",
       "      <td>60</td>\n",
       "      <td>RL</td>\n",
       "      <td>62.0</td>\n",
       "      <td>7917</td>\n",
       "      <td>Pave</td>\n",
       "      <td>NaN</td>\n",
       "      <td>Reg</td>\n",
       "      <td>Lvl</td>\n",
       "      <td>AllPub</td>\n",
       "      <td>Inside</td>\n",
       "      <td>...</td>\n",
       "      <td>0</td>\n",
       "      <td>NaN</td>\n",
       "      <td>NaN</td>\n",
       "      <td>NaN</td>\n",
       "      <td>0</td>\n",
       "      <td>8</td>\n",
       "      <td>2007</td>\n",
       "      <td>WD</td>\n",
       "      <td>Normal</td>\n",
       "      <td>175000</td>\n",
       "    </tr>\n",
       "    <tr>\n",
       "      <th>1457</th>\n",
       "      <td>20</td>\n",
       "      <td>RL</td>\n",
       "      <td>85.0</td>\n",
       "      <td>13175</td>\n",
       "      <td>Pave</td>\n",
       "      <td>NaN</td>\n",
       "      <td>Reg</td>\n",
       "      <td>Lvl</td>\n",
       "      <td>AllPub</td>\n",
       "      <td>Inside</td>\n",
       "      <td>...</td>\n",
       "      <td>0</td>\n",
       "      <td>NaN</td>\n",
       "      <td>MnPrv</td>\n",
       "      <td>NaN</td>\n",
       "      <td>0</td>\n",
       "      <td>2</td>\n",
       "      <td>2010</td>\n",
       "      <td>WD</td>\n",
       "      <td>Normal</td>\n",
       "      <td>210000</td>\n",
       "    </tr>\n",
       "    <tr>\n",
       "      <th>1458</th>\n",
       "      <td>70</td>\n",
       "      <td>RL</td>\n",
       "      <td>66.0</td>\n",
       "      <td>9042</td>\n",
       "      <td>Pave</td>\n",
       "      <td>NaN</td>\n",
       "      <td>Reg</td>\n",
       "      <td>Lvl</td>\n",
       "      <td>AllPub</td>\n",
       "      <td>Inside</td>\n",
       "      <td>...</td>\n",
       "      <td>0</td>\n",
       "      <td>NaN</td>\n",
       "      <td>GdPrv</td>\n",
       "      <td>Shed</td>\n",
       "      <td>2500</td>\n",
       "      <td>5</td>\n",
       "      <td>2010</td>\n",
       "      <td>WD</td>\n",
       "      <td>Normal</td>\n",
       "      <td>266500</td>\n",
       "    </tr>\n",
       "    <tr>\n",
       "      <th>1459</th>\n",
       "      <td>20</td>\n",
       "      <td>RL</td>\n",
       "      <td>68.0</td>\n",
       "      <td>9717</td>\n",
       "      <td>Pave</td>\n",
       "      <td>NaN</td>\n",
       "      <td>Reg</td>\n",
       "      <td>Lvl</td>\n",
       "      <td>AllPub</td>\n",
       "      <td>Inside</td>\n",
       "      <td>...</td>\n",
       "      <td>0</td>\n",
       "      <td>NaN</td>\n",
       "      <td>NaN</td>\n",
       "      <td>NaN</td>\n",
       "      <td>0</td>\n",
       "      <td>4</td>\n",
       "      <td>2010</td>\n",
       "      <td>WD</td>\n",
       "      <td>Normal</td>\n",
       "      <td>142125</td>\n",
       "    </tr>\n",
       "    <tr>\n",
       "      <th>1460</th>\n",
       "      <td>20</td>\n",
       "      <td>RL</td>\n",
       "      <td>75.0</td>\n",
       "      <td>9937</td>\n",
       "      <td>Pave</td>\n",
       "      <td>NaN</td>\n",
       "      <td>Reg</td>\n",
       "      <td>Lvl</td>\n",
       "      <td>AllPub</td>\n",
       "      <td>Inside</td>\n",
       "      <td>...</td>\n",
       "      <td>0</td>\n",
       "      <td>NaN</td>\n",
       "      <td>NaN</td>\n",
       "      <td>NaN</td>\n",
       "      <td>0</td>\n",
       "      <td>6</td>\n",
       "      <td>2008</td>\n",
       "      <td>WD</td>\n",
       "      <td>Normal</td>\n",
       "      <td>147500</td>\n",
       "    </tr>\n",
       "  </tbody>\n",
       "</table>\n",
       "<p>1460 rows × 80 columns</p>\n",
       "</div>"
      ],
      "text/plain": [
       "      MSSubClass MSZoning  LotFrontage  LotArea Street Alley LotShape  \\\n",
       "Id                                                                      \n",
       "1             60       RL         65.0     8450   Pave   NaN      Reg   \n",
       "2             20       RL         80.0     9600   Pave   NaN      Reg   \n",
       "3             60       RL         68.0    11250   Pave   NaN      IR1   \n",
       "4             70       RL         60.0     9550   Pave   NaN      IR1   \n",
       "5             60       RL         84.0    14260   Pave   NaN      IR1   \n",
       "...          ...      ...          ...      ...    ...   ...      ...   \n",
       "1456          60       RL         62.0     7917   Pave   NaN      Reg   \n",
       "1457          20       RL         85.0    13175   Pave   NaN      Reg   \n",
       "1458          70       RL         66.0     9042   Pave   NaN      Reg   \n",
       "1459          20       RL         68.0     9717   Pave   NaN      Reg   \n",
       "1460          20       RL         75.0     9937   Pave   NaN      Reg   \n",
       "\n",
       "     LandContour Utilities LotConfig  ... PoolArea PoolQC  Fence MiscFeature  \\\n",
       "Id                                    ...                                      \n",
       "1            Lvl    AllPub    Inside  ...        0    NaN    NaN         NaN   \n",
       "2            Lvl    AllPub       FR2  ...        0    NaN    NaN         NaN   \n",
       "3            Lvl    AllPub    Inside  ...        0    NaN    NaN         NaN   \n",
       "4            Lvl    AllPub    Corner  ...        0    NaN    NaN         NaN   \n",
       "5            Lvl    AllPub       FR2  ...        0    NaN    NaN         NaN   \n",
       "...          ...       ...       ...  ...      ...    ...    ...         ...   \n",
       "1456         Lvl    AllPub    Inside  ...        0    NaN    NaN         NaN   \n",
       "1457         Lvl    AllPub    Inside  ...        0    NaN  MnPrv         NaN   \n",
       "1458         Lvl    AllPub    Inside  ...        0    NaN  GdPrv        Shed   \n",
       "1459         Lvl    AllPub    Inside  ...        0    NaN    NaN         NaN   \n",
       "1460         Lvl    AllPub    Inside  ...        0    NaN    NaN         NaN   \n",
       "\n",
       "     MiscVal MoSold  YrSold  SaleType  SaleCondition  SalePrice  \n",
       "Id                                                               \n",
       "1          0      2    2008        WD         Normal     208500  \n",
       "2          0      5    2007        WD         Normal     181500  \n",
       "3          0      9    2008        WD         Normal     223500  \n",
       "4          0      2    2006        WD        Abnorml     140000  \n",
       "5          0     12    2008        WD         Normal     250000  \n",
       "...      ...    ...     ...       ...            ...        ...  \n",
       "1456       0      8    2007        WD         Normal     175000  \n",
       "1457       0      2    2010        WD         Normal     210000  \n",
       "1458    2500      5    2010        WD         Normal     266500  \n",
       "1459       0      4    2010        WD         Normal     142125  \n",
       "1460       0      6    2008        WD         Normal     147500  \n",
       "\n",
       "[1460 rows x 80 columns]"
      ]
     },
     "execution_count": 2,
     "metadata": {},
     "output_type": "execute_result"
    }
   ],
   "source": [
    "df = pd.read_csv(\"/kaggle/input/home-data-for-ml-course/train.csv\",index_col=\"Id\")\n",
    "df"
   ]
  },
  {
   "cell_type": "code",
   "execution_count": 3,
   "id": "32075408",
   "metadata": {
    "execution": {
     "iopub.execute_input": "2023-06-28T18:01:17.281091Z",
     "iopub.status.busy": "2023-06-28T18:01:17.280680Z",
     "iopub.status.idle": "2023-06-28T18:01:17.331542Z",
     "shell.execute_reply": "2023-06-28T18:01:17.330354Z"
    },
    "papermill": {
     "duration": 0.063959,
     "end_time": "2023-06-28T18:01:17.334089",
     "exception": false,
     "start_time": "2023-06-28T18:01:17.270130",
     "status": "completed"
    },
    "tags": []
   },
   "outputs": [
    {
     "data": {
      "text/plain": [
       "LotFrontage      259\n",
       "Alley           1369\n",
       "MasVnrType         8\n",
       "MasVnrArea         8\n",
       "BsmtQual          37\n",
       "BsmtCond          37\n",
       "BsmtExposure      38\n",
       "BsmtFinType1      37\n",
       "BsmtFinType2      38\n",
       "Electrical         1\n",
       "FireplaceQu      690\n",
       "GarageType        81\n",
       "GarageYrBlt       81\n",
       "GarageFinish      81\n",
       "GarageQual        81\n",
       "GarageCond        81\n",
       "PoolQC          1453\n",
       "Fence           1179\n",
       "MiscFeature     1406\n",
       "dtype: int64"
      ]
     },
     "execution_count": 3,
     "metadata": {},
     "output_type": "execute_result"
    }
   ],
   "source": [
    "df.isna().sum()[df.isna().sum() !=0]"
   ]
  },
  {
   "cell_type": "code",
   "execution_count": 4,
   "id": "29bb2306",
   "metadata": {
    "execution": {
     "iopub.execute_input": "2023-06-28T18:01:17.354928Z",
     "iopub.status.busy": "2023-06-28T18:01:17.354504Z",
     "iopub.status.idle": "2023-06-28T18:01:17.472273Z",
     "shell.execute_reply": "2023-06-28T18:01:17.471348Z"
    },
    "papermill": {
     "duration": 0.131471,
     "end_time": "2023-06-28T18:01:17.474855",
     "exception": false,
     "start_time": "2023-06-28T18:01:17.343384",
     "status": "completed"
    },
    "tags": []
   },
   "outputs": [
    {
     "data": {
      "text/html": [
       "<div>\n",
       "<style scoped>\n",
       "    .dataframe tbody tr th:only-of-type {\n",
       "        vertical-align: middle;\n",
       "    }\n",
       "\n",
       "    .dataframe tbody tr th {\n",
       "        vertical-align: top;\n",
       "    }\n",
       "\n",
       "    .dataframe thead th {\n",
       "        text-align: right;\n",
       "    }\n",
       "</style>\n",
       "<table border=\"1\" class=\"dataframe\">\n",
       "  <thead>\n",
       "    <tr style=\"text-align: right;\">\n",
       "      <th></th>\n",
       "      <th>MSSubClass</th>\n",
       "      <th>LotFrontage</th>\n",
       "      <th>LotArea</th>\n",
       "      <th>OverallQual</th>\n",
       "      <th>OverallCond</th>\n",
       "      <th>YearBuilt</th>\n",
       "      <th>YearRemodAdd</th>\n",
       "      <th>MasVnrArea</th>\n",
       "      <th>BsmtFinSF1</th>\n",
       "      <th>BsmtFinSF2</th>\n",
       "      <th>...</th>\n",
       "      <th>WoodDeckSF</th>\n",
       "      <th>OpenPorchSF</th>\n",
       "      <th>EnclosedPorch</th>\n",
       "      <th>3SsnPorch</th>\n",
       "      <th>ScreenPorch</th>\n",
       "      <th>PoolArea</th>\n",
       "      <th>MiscVal</th>\n",
       "      <th>MoSold</th>\n",
       "      <th>YrSold</th>\n",
       "      <th>SalePrice</th>\n",
       "    </tr>\n",
       "  </thead>\n",
       "  <tbody>\n",
       "    <tr>\n",
       "      <th>count</th>\n",
       "      <td>1460.000000</td>\n",
       "      <td>1201.000000</td>\n",
       "      <td>1460.000000</td>\n",
       "      <td>1460.000000</td>\n",
       "      <td>1460.000000</td>\n",
       "      <td>1460.000000</td>\n",
       "      <td>1460.000000</td>\n",
       "      <td>1452.000000</td>\n",
       "      <td>1460.000000</td>\n",
       "      <td>1460.000000</td>\n",
       "      <td>...</td>\n",
       "      <td>1460.000000</td>\n",
       "      <td>1460.000000</td>\n",
       "      <td>1460.000000</td>\n",
       "      <td>1460.000000</td>\n",
       "      <td>1460.000000</td>\n",
       "      <td>1460.000000</td>\n",
       "      <td>1460.000000</td>\n",
       "      <td>1460.000000</td>\n",
       "      <td>1460.000000</td>\n",
       "      <td>1460.000000</td>\n",
       "    </tr>\n",
       "    <tr>\n",
       "      <th>mean</th>\n",
       "      <td>56.897260</td>\n",
       "      <td>70.049958</td>\n",
       "      <td>10516.828082</td>\n",
       "      <td>6.099315</td>\n",
       "      <td>5.575342</td>\n",
       "      <td>1971.267808</td>\n",
       "      <td>1984.865753</td>\n",
       "      <td>103.685262</td>\n",
       "      <td>443.639726</td>\n",
       "      <td>46.549315</td>\n",
       "      <td>...</td>\n",
       "      <td>94.244521</td>\n",
       "      <td>46.660274</td>\n",
       "      <td>21.954110</td>\n",
       "      <td>3.409589</td>\n",
       "      <td>15.060959</td>\n",
       "      <td>2.758904</td>\n",
       "      <td>43.489041</td>\n",
       "      <td>6.321918</td>\n",
       "      <td>2007.815753</td>\n",
       "      <td>180921.195890</td>\n",
       "    </tr>\n",
       "    <tr>\n",
       "      <th>std</th>\n",
       "      <td>42.300571</td>\n",
       "      <td>24.284752</td>\n",
       "      <td>9981.264932</td>\n",
       "      <td>1.382997</td>\n",
       "      <td>1.112799</td>\n",
       "      <td>30.202904</td>\n",
       "      <td>20.645407</td>\n",
       "      <td>181.066207</td>\n",
       "      <td>456.098091</td>\n",
       "      <td>161.319273</td>\n",
       "      <td>...</td>\n",
       "      <td>125.338794</td>\n",
       "      <td>66.256028</td>\n",
       "      <td>61.119149</td>\n",
       "      <td>29.317331</td>\n",
       "      <td>55.757415</td>\n",
       "      <td>40.177307</td>\n",
       "      <td>496.123024</td>\n",
       "      <td>2.703626</td>\n",
       "      <td>1.328095</td>\n",
       "      <td>79442.502883</td>\n",
       "    </tr>\n",
       "    <tr>\n",
       "      <th>min</th>\n",
       "      <td>20.000000</td>\n",
       "      <td>21.000000</td>\n",
       "      <td>1300.000000</td>\n",
       "      <td>1.000000</td>\n",
       "      <td>1.000000</td>\n",
       "      <td>1872.000000</td>\n",
       "      <td>1950.000000</td>\n",
       "      <td>0.000000</td>\n",
       "      <td>0.000000</td>\n",
       "      <td>0.000000</td>\n",
       "      <td>...</td>\n",
       "      <td>0.000000</td>\n",
       "      <td>0.000000</td>\n",
       "      <td>0.000000</td>\n",
       "      <td>0.000000</td>\n",
       "      <td>0.000000</td>\n",
       "      <td>0.000000</td>\n",
       "      <td>0.000000</td>\n",
       "      <td>1.000000</td>\n",
       "      <td>2006.000000</td>\n",
       "      <td>34900.000000</td>\n",
       "    </tr>\n",
       "    <tr>\n",
       "      <th>25%</th>\n",
       "      <td>20.000000</td>\n",
       "      <td>59.000000</td>\n",
       "      <td>7553.500000</td>\n",
       "      <td>5.000000</td>\n",
       "      <td>5.000000</td>\n",
       "      <td>1954.000000</td>\n",
       "      <td>1967.000000</td>\n",
       "      <td>0.000000</td>\n",
       "      <td>0.000000</td>\n",
       "      <td>0.000000</td>\n",
       "      <td>...</td>\n",
       "      <td>0.000000</td>\n",
       "      <td>0.000000</td>\n",
       "      <td>0.000000</td>\n",
       "      <td>0.000000</td>\n",
       "      <td>0.000000</td>\n",
       "      <td>0.000000</td>\n",
       "      <td>0.000000</td>\n",
       "      <td>5.000000</td>\n",
       "      <td>2007.000000</td>\n",
       "      <td>129975.000000</td>\n",
       "    </tr>\n",
       "    <tr>\n",
       "      <th>50%</th>\n",
       "      <td>50.000000</td>\n",
       "      <td>69.000000</td>\n",
       "      <td>9478.500000</td>\n",
       "      <td>6.000000</td>\n",
       "      <td>5.000000</td>\n",
       "      <td>1973.000000</td>\n",
       "      <td>1994.000000</td>\n",
       "      <td>0.000000</td>\n",
       "      <td>383.500000</td>\n",
       "      <td>0.000000</td>\n",
       "      <td>...</td>\n",
       "      <td>0.000000</td>\n",
       "      <td>25.000000</td>\n",
       "      <td>0.000000</td>\n",
       "      <td>0.000000</td>\n",
       "      <td>0.000000</td>\n",
       "      <td>0.000000</td>\n",
       "      <td>0.000000</td>\n",
       "      <td>6.000000</td>\n",
       "      <td>2008.000000</td>\n",
       "      <td>163000.000000</td>\n",
       "    </tr>\n",
       "    <tr>\n",
       "      <th>75%</th>\n",
       "      <td>70.000000</td>\n",
       "      <td>80.000000</td>\n",
       "      <td>11601.500000</td>\n",
       "      <td>7.000000</td>\n",
       "      <td>6.000000</td>\n",
       "      <td>2000.000000</td>\n",
       "      <td>2004.000000</td>\n",
       "      <td>166.000000</td>\n",
       "      <td>712.250000</td>\n",
       "      <td>0.000000</td>\n",
       "      <td>...</td>\n",
       "      <td>168.000000</td>\n",
       "      <td>68.000000</td>\n",
       "      <td>0.000000</td>\n",
       "      <td>0.000000</td>\n",
       "      <td>0.000000</td>\n",
       "      <td>0.000000</td>\n",
       "      <td>0.000000</td>\n",
       "      <td>8.000000</td>\n",
       "      <td>2009.000000</td>\n",
       "      <td>214000.000000</td>\n",
       "    </tr>\n",
       "    <tr>\n",
       "      <th>max</th>\n",
       "      <td>190.000000</td>\n",
       "      <td>313.000000</td>\n",
       "      <td>215245.000000</td>\n",
       "      <td>10.000000</td>\n",
       "      <td>9.000000</td>\n",
       "      <td>2010.000000</td>\n",
       "      <td>2010.000000</td>\n",
       "      <td>1600.000000</td>\n",
       "      <td>5644.000000</td>\n",
       "      <td>1474.000000</td>\n",
       "      <td>...</td>\n",
       "      <td>857.000000</td>\n",
       "      <td>547.000000</td>\n",
       "      <td>552.000000</td>\n",
       "      <td>508.000000</td>\n",
       "      <td>480.000000</td>\n",
       "      <td>738.000000</td>\n",
       "      <td>15500.000000</td>\n",
       "      <td>12.000000</td>\n",
       "      <td>2010.000000</td>\n",
       "      <td>755000.000000</td>\n",
       "    </tr>\n",
       "  </tbody>\n",
       "</table>\n",
       "<p>8 rows × 37 columns</p>\n",
       "</div>"
      ],
      "text/plain": [
       "        MSSubClass  LotFrontage        LotArea  OverallQual  OverallCond  \\\n",
       "count  1460.000000  1201.000000    1460.000000  1460.000000  1460.000000   \n",
       "mean     56.897260    70.049958   10516.828082     6.099315     5.575342   \n",
       "std      42.300571    24.284752    9981.264932     1.382997     1.112799   \n",
       "min      20.000000    21.000000    1300.000000     1.000000     1.000000   \n",
       "25%      20.000000    59.000000    7553.500000     5.000000     5.000000   \n",
       "50%      50.000000    69.000000    9478.500000     6.000000     5.000000   \n",
       "75%      70.000000    80.000000   11601.500000     7.000000     6.000000   \n",
       "max     190.000000   313.000000  215245.000000    10.000000     9.000000   \n",
       "\n",
       "         YearBuilt  YearRemodAdd   MasVnrArea   BsmtFinSF1   BsmtFinSF2  ...  \\\n",
       "count  1460.000000   1460.000000  1452.000000  1460.000000  1460.000000  ...   \n",
       "mean   1971.267808   1984.865753   103.685262   443.639726    46.549315  ...   \n",
       "std      30.202904     20.645407   181.066207   456.098091   161.319273  ...   \n",
       "min    1872.000000   1950.000000     0.000000     0.000000     0.000000  ...   \n",
       "25%    1954.000000   1967.000000     0.000000     0.000000     0.000000  ...   \n",
       "50%    1973.000000   1994.000000     0.000000   383.500000     0.000000  ...   \n",
       "75%    2000.000000   2004.000000   166.000000   712.250000     0.000000  ...   \n",
       "max    2010.000000   2010.000000  1600.000000  5644.000000  1474.000000  ...   \n",
       "\n",
       "        WoodDeckSF  OpenPorchSF  EnclosedPorch    3SsnPorch  ScreenPorch  \\\n",
       "count  1460.000000  1460.000000    1460.000000  1460.000000  1460.000000   \n",
       "mean     94.244521    46.660274      21.954110     3.409589    15.060959   \n",
       "std     125.338794    66.256028      61.119149    29.317331    55.757415   \n",
       "min       0.000000     0.000000       0.000000     0.000000     0.000000   \n",
       "25%       0.000000     0.000000       0.000000     0.000000     0.000000   \n",
       "50%       0.000000    25.000000       0.000000     0.000000     0.000000   \n",
       "75%     168.000000    68.000000       0.000000     0.000000     0.000000   \n",
       "max     857.000000   547.000000     552.000000   508.000000   480.000000   \n",
       "\n",
       "          PoolArea       MiscVal       MoSold       YrSold      SalePrice  \n",
       "count  1460.000000   1460.000000  1460.000000  1460.000000    1460.000000  \n",
       "mean      2.758904     43.489041     6.321918  2007.815753  180921.195890  \n",
       "std      40.177307    496.123024     2.703626     1.328095   79442.502883  \n",
       "min       0.000000      0.000000     1.000000  2006.000000   34900.000000  \n",
       "25%       0.000000      0.000000     5.000000  2007.000000  129975.000000  \n",
       "50%       0.000000      0.000000     6.000000  2008.000000  163000.000000  \n",
       "75%       0.000000      0.000000     8.000000  2009.000000  214000.000000  \n",
       "max     738.000000  15500.000000    12.000000  2010.000000  755000.000000  \n",
       "\n",
       "[8 rows x 37 columns]"
      ]
     },
     "execution_count": 4,
     "metadata": {},
     "output_type": "execute_result"
    }
   ],
   "source": [
    "df.describe()"
   ]
  },
  {
   "cell_type": "code",
   "execution_count": 5,
   "id": "b81fc829",
   "metadata": {
    "execution": {
     "iopub.execute_input": "2023-06-28T18:01:17.497542Z",
     "iopub.status.busy": "2023-06-28T18:01:17.497097Z",
     "iopub.status.idle": "2023-06-28T18:01:17.508157Z",
     "shell.execute_reply": "2023-06-28T18:01:17.506916Z"
    },
    "papermill": {
     "duration": 0.024521,
     "end_time": "2023-06-28T18:01:17.510608",
     "exception": false,
     "start_time": "2023-06-28T18:01:17.486087",
     "status": "completed"
    },
    "tags": []
   },
   "outputs": [],
   "source": [
    "# split dataset into str types and num types \n",
    "str_columns = []\n",
    "int_columns = []\n",
    "for i in df.columns:\n",
    "    if is_string_dtype(df[i]):\n",
    "        str_columns.append(i)\n",
    "    if is_numeric_dtype(df[i]):\n",
    "        int_columns.append(i)"
   ]
  },
  {
   "cell_type": "code",
   "execution_count": 6,
   "id": "2ef0a75e",
   "metadata": {
    "execution": {
     "iopub.execute_input": "2023-06-28T18:01:17.532287Z",
     "iopub.status.busy": "2023-06-28T18:01:17.531890Z",
     "iopub.status.idle": "2023-06-28T18:01:17.539282Z",
     "shell.execute_reply": "2023-06-28T18:01:17.538138Z"
    },
    "papermill": {
     "duration": 0.021024,
     "end_time": "2023-06-28T18:01:17.541611",
     "exception": false,
     "start_time": "2023-06-28T18:01:17.520587",
     "status": "completed"
    },
    "tags": []
   },
   "outputs": [
    {
     "data": {
      "text/plain": [
       "43"
      ]
     },
     "execution_count": 6,
     "metadata": {},
     "output_type": "execute_result"
    }
   ],
   "source": [
    "len(str_columns)"
   ]
  },
  {
   "cell_type": "code",
   "execution_count": 7,
   "id": "fdc9bf26",
   "metadata": {
    "execution": {
     "iopub.execute_input": "2023-06-28T18:01:17.563289Z",
     "iopub.status.busy": "2023-06-28T18:01:17.562436Z",
     "iopub.status.idle": "2023-06-28T18:01:17.569048Z",
     "shell.execute_reply": "2023-06-28T18:01:17.567963Z"
    },
    "papermill": {
     "duration": 0.019939,
     "end_time": "2023-06-28T18:01:17.571282",
     "exception": false,
     "start_time": "2023-06-28T18:01:17.551343",
     "status": "completed"
    },
    "tags": []
   },
   "outputs": [
    {
     "data": {
      "text/plain": [
       "37"
      ]
     },
     "execution_count": 7,
     "metadata": {},
     "output_type": "execute_result"
    }
   ],
   "source": [
    "len(int_columns)"
   ]
  },
  {
   "cell_type": "code",
   "execution_count": 8,
   "id": "39a0c7d6",
   "metadata": {
    "execution": {
     "iopub.execute_input": "2023-06-28T18:01:17.593061Z",
     "iopub.status.busy": "2023-06-28T18:01:17.592681Z",
     "iopub.status.idle": "2023-06-28T18:01:17.599960Z",
     "shell.execute_reply": "2023-06-28T18:01:17.598794Z"
    },
    "papermill": {
     "duration": 0.020997,
     "end_time": "2023-06-28T18:01:17.602238",
     "exception": false,
     "start_time": "2023-06-28T18:01:17.581241",
     "status": "completed"
    },
    "tags": []
   },
   "outputs": [],
   "source": [
    "str_df = df.drop(columns=int_columns)\n",
    "int_df = df.drop(columns=str_columns)"
   ]
  },
  {
   "cell_type": "code",
   "execution_count": 9,
   "id": "06cdbb5a",
   "metadata": {
    "execution": {
     "iopub.execute_input": "2023-06-28T18:01:17.624270Z",
     "iopub.status.busy": "2023-06-28T18:01:17.623911Z",
     "iopub.status.idle": "2023-06-28T18:01:17.630471Z",
     "shell.execute_reply": "2023-06-28T18:01:17.629301Z"
    },
    "papermill": {
     "duration": 0.020479,
     "end_time": "2023-06-28T18:01:17.632930",
     "exception": false,
     "start_time": "2023-06-28T18:01:17.612451",
     "status": "completed"
    },
    "tags": []
   },
   "outputs": [
    {
     "data": {
      "text/plain": [
       "43"
      ]
     },
     "execution_count": 9,
     "metadata": {},
     "output_type": "execute_result"
    }
   ],
   "source": [
    "len(str_df.columns)"
   ]
  },
  {
   "cell_type": "code",
   "execution_count": 10,
   "id": "533509e6",
   "metadata": {
    "execution": {
     "iopub.execute_input": "2023-06-28T18:01:17.654887Z",
     "iopub.status.busy": "2023-06-28T18:01:17.654501Z",
     "iopub.status.idle": "2023-06-28T18:01:17.665167Z",
     "shell.execute_reply": "2023-06-28T18:01:17.664137Z"
    },
    "papermill": {
     "duration": 0.024653,
     "end_time": "2023-06-28T18:01:17.667632",
     "exception": false,
     "start_time": "2023-06-28T18:01:17.642979",
     "status": "completed"
    },
    "tags": []
   },
   "outputs": [
    {
     "data": {
      "text/plain": [
       "LotFrontage    259\n",
       "MasVnrArea       8\n",
       "GarageYrBlt     81\n",
       "dtype: int64"
      ]
     },
     "execution_count": 10,
     "metadata": {},
     "output_type": "execute_result"
    }
   ],
   "source": [
    "int_df.isna().sum()[int_df.isna().sum() !=0]"
   ]
  },
  {
   "cell_type": "markdown",
   "id": "2e8ff487",
   "metadata": {
    "papermill": {
     "duration": 0.009977,
     "end_time": "2023-06-28T18:01:17.687960",
     "exception": false,
     "start_time": "2023-06-28T18:01:17.677983",
     "status": "completed"
    },
    "tags": []
   },
   "source": [
    "# Handling Missing Values\n",
    "\n",
    "## 1) Delete Rows with Missing Values:\n",
    "\n",
    "If the amount of NaN in the dataset is low or less than 10% - 15% this method is used.\n",
    "\n",
    "Works for both string and integer columns "
   ]
  },
  {
   "cell_type": "code",
   "execution_count": 11,
   "id": "865bcb0f",
   "metadata": {
    "execution": {
     "iopub.execute_input": "2023-06-28T18:01:17.710412Z",
     "iopub.status.busy": "2023-06-28T18:01:17.710012Z",
     "iopub.status.idle": "2023-06-28T18:01:17.742178Z",
     "shell.execute_reply": "2023-06-28T18:01:17.741036Z"
    },
    "papermill": {
     "duration": 0.046424,
     "end_time": "2023-06-28T18:01:17.744579",
     "exception": false,
     "start_time": "2023-06-28T18:01:17.698155",
     "status": "completed"
    },
    "tags": []
   },
   "outputs": [
    {
     "data": {
      "text/plain": [
       "MSSubClass       0.0\n",
       "MSZoning         0.0\n",
       "LotFrontage      0.0\n",
       "LotArea          0.0\n",
       "Street           0.0\n",
       "                ... \n",
       "MoSold           0.0\n",
       "YrSold           0.0\n",
       "SaleType         0.0\n",
       "SaleCondition    0.0\n",
       "SalePrice        0.0\n",
       "Length: 80, dtype: float64"
      ]
     },
     "execution_count": 11,
     "metadata": {},
     "output_type": "execute_result"
    }
   ],
   "source": [
    "df.dropna(inplace=True)\n",
    "df.isna().sum()"
   ]
  },
  {
   "cell_type": "code",
   "execution_count": 12,
   "id": "610b2189",
   "metadata": {
    "execution": {
     "iopub.execute_input": "2023-06-28T18:01:17.767250Z",
     "iopub.status.busy": "2023-06-28T18:01:17.766824Z",
     "iopub.status.idle": "2023-06-28T18:01:17.777334Z",
     "shell.execute_reply": "2023-06-28T18:01:17.776279Z"
    },
    "papermill": {
     "duration": 0.024747,
     "end_time": "2023-06-28T18:01:17.779685",
     "exception": false,
     "start_time": "2023-06-28T18:01:17.754938",
     "status": "completed"
    },
    "tags": []
   },
   "outputs": [
    {
     "data": {
      "text/plain": [
       "Series([], dtype: float64)"
      ]
     },
     "execution_count": 12,
     "metadata": {},
     "output_type": "execute_result"
    }
   ],
   "source": [
    "df.isna().sum()[df.isna().sum() !=0]"
   ]
  },
  {
   "cell_type": "markdown",
   "id": "4a29f07b",
   "metadata": {
    "papermill": {
     "duration": 0.010164,
     "end_time": "2023-06-28T18:01:17.801929",
     "exception": false,
     "start_time": "2023-06-28T18:01:17.791765",
     "status": "completed"
    },
    "tags": []
   },
   "source": [
    "## 2.) Replace with Mean and Median\n",
    "\n",
    "When the amount of NaN is larger than 15% of the dataset we cannot ignore the NaN data points.\n",
    "\n",
    "For this we replace it with the mean or median "
   ]
  },
  {
   "cell_type": "code",
   "execution_count": 13,
   "id": "3ff6f293",
   "metadata": {
    "execution": {
     "iopub.execute_input": "2023-06-28T18:01:17.824580Z",
     "iopub.status.busy": "2023-06-28T18:01:17.824152Z",
     "iopub.status.idle": "2023-06-28T18:01:17.859854Z",
     "shell.execute_reply": "2023-06-28T18:01:17.858707Z"
    },
    "papermill": {
     "duration": 0.049982,
     "end_time": "2023-06-28T18:01:17.862289",
     "exception": false,
     "start_time": "2023-06-28T18:01:17.812307",
     "status": "completed"
    },
    "tags": []
   },
   "outputs": [
    {
     "data": {
      "text/plain": [
       "259"
      ]
     },
     "execution_count": 13,
     "metadata": {},
     "output_type": "execute_result"
    }
   ],
   "source": [
    "df = pd.read_csv(\"/kaggle/input/home-data-for-ml-course/train.csv\",index_col=\"Id\")\n",
    "df[\"LotFrontage\"].isna().sum()"
   ]
  },
  {
   "cell_type": "code",
   "execution_count": 14,
   "id": "7e85e005",
   "metadata": {
    "execution": {
     "iopub.execute_input": "2023-06-28T18:01:17.886294Z",
     "iopub.status.busy": "2023-06-28T18:01:17.885063Z",
     "iopub.status.idle": "2023-06-28T18:01:17.892200Z",
     "shell.execute_reply": "2023-06-28T18:01:17.891227Z"
    },
    "papermill": {
     "duration": 0.021494,
     "end_time": "2023-06-28T18:01:17.894418",
     "exception": false,
     "start_time": "2023-06-28T18:01:17.872924",
     "status": "completed"
    },
    "tags": []
   },
   "outputs": [
    {
     "data": {
      "text/plain": [
       "0.1773972602739726"
      ]
     },
     "execution_count": 14,
     "metadata": {},
     "output_type": "execute_result"
    }
   ],
   "source": [
    "259/1460 # Greater than 15% of the dataset"
   ]
  },
  {
   "cell_type": "code",
   "execution_count": 15,
   "id": "6590cb52",
   "metadata": {
    "execution": {
     "iopub.execute_input": "2023-06-28T18:01:17.918074Z",
     "iopub.status.busy": "2023-06-28T18:01:17.917301Z",
     "iopub.status.idle": "2023-06-28T18:01:17.926430Z",
     "shell.execute_reply": "2023-06-28T18:01:17.925308Z"
    },
    "papermill": {
     "duration": 0.023502,
     "end_time": "2023-06-28T18:01:17.928702",
     "exception": false,
     "start_time": "2023-06-28T18:01:17.905200",
     "status": "completed"
    },
    "tags": []
   },
   "outputs": [
    {
     "data": {
      "text/plain": [
       "0"
      ]
     },
     "execution_count": 15,
     "metadata": {},
     "output_type": "execute_result"
    }
   ],
   "source": [
    "# replace with mean\n",
    "df[\"LotFrontage\"] = df[\"LotFrontage\"].replace(np.NaN, df[\"LotFrontage\"].mean())\n",
    "df[\"LotFrontage\"].isna().sum()"
   ]
  },
  {
   "cell_type": "code",
   "execution_count": 16,
   "id": "8bb3b7bd",
   "metadata": {
    "execution": {
     "iopub.execute_input": "2023-06-28T18:01:17.952735Z",
     "iopub.status.busy": "2023-06-28T18:01:17.951955Z",
     "iopub.status.idle": "2023-06-28T18:01:17.961748Z",
     "shell.execute_reply": "2023-06-28T18:01:17.960476Z"
    },
    "papermill": {
     "duration": 0.024721,
     "end_time": "2023-06-28T18:01:17.964203",
     "exception": false,
     "start_time": "2023-06-28T18:01:17.939482",
     "status": "completed"
    },
    "tags": []
   },
   "outputs": [
    {
     "data": {
      "text/plain": [
       "0"
      ]
     },
     "execution_count": 16,
     "metadata": {},
     "output_type": "execute_result"
    }
   ],
   "source": [
    "# replace with mean\n",
    "df[\"LotFrontage\"] = df[\"LotFrontage\"].replace(np.NaN, df[\"LotFrontage\"].median())\n",
    "df[\"LotFrontage\"].isna().sum()"
   ]
  },
  {
   "cell_type": "markdown",
   "id": "c1dd533d",
   "metadata": {
    "papermill": {
     "duration": 0.010855,
     "end_time": "2023-06-28T18:01:17.986119",
     "exception": false,
     "start_time": "2023-06-28T18:01:17.975264",
     "status": "completed"
    },
    "tags": []
   },
   "source": [
    "## 3.) Interpolation\n",
    "\n",
    "If filling the dataset with the mean or median is not a possible option, then we could use data interplotion. This is seen in cases like price datasets where replacing with mean is not appropriate. "
   ]
  },
  {
   "cell_type": "code",
   "execution_count": 17,
   "id": "fe154979",
   "metadata": {
    "execution": {
     "iopub.execute_input": "2023-06-28T18:01:18.010538Z",
     "iopub.status.busy": "2023-06-28T18:01:18.009586Z",
     "iopub.status.idle": "2023-06-28T18:01:18.045075Z",
     "shell.execute_reply": "2023-06-28T18:01:18.044017Z"
    },
    "papermill": {
     "duration": 0.050347,
     "end_time": "2023-06-28T18:01:18.047568",
     "exception": false,
     "start_time": "2023-06-28T18:01:17.997221",
     "status": "completed"
    },
    "tags": []
   },
   "outputs": [
    {
     "data": {
      "text/plain": [
       "259"
      ]
     },
     "execution_count": 17,
     "metadata": {},
     "output_type": "execute_result"
    }
   ],
   "source": [
    "df = pd.read_csv(\"/kaggle/input/home-data-for-ml-course/train.csv\",index_col=\"Id\")\n",
    "df[\"LotFrontage\"].isna().sum()"
   ]
  },
  {
   "cell_type": "code",
   "execution_count": 18,
   "id": "34152154",
   "metadata": {
    "execution": {
     "iopub.execute_input": "2023-06-28T18:01:18.072098Z",
     "iopub.status.busy": "2023-06-28T18:01:18.071720Z",
     "iopub.status.idle": "2023-06-28T18:01:18.078115Z",
     "shell.execute_reply": "2023-06-28T18:01:18.077159Z"
    },
    "papermill": {
     "duration": 0.021713,
     "end_time": "2023-06-28T18:01:18.080478",
     "exception": false,
     "start_time": "2023-06-28T18:01:18.058765",
     "status": "completed"
    },
    "tags": []
   },
   "outputs": [],
   "source": [
    "# fill NaN with Interpolation value\n",
    "df[\"LotFrontage\"] = df[\"LotFrontage\"].interpolate(method='linear', limit_direction='forward', axis=0)"
   ]
  },
  {
   "cell_type": "code",
   "execution_count": 19,
   "id": "37c94a40",
   "metadata": {
    "execution": {
     "iopub.execute_input": "2023-06-28T18:01:18.104840Z",
     "iopub.status.busy": "2023-06-28T18:01:18.104459Z",
     "iopub.status.idle": "2023-06-28T18:01:18.112098Z",
     "shell.execute_reply": "2023-06-28T18:01:18.111003Z"
    },
    "papermill": {
     "duration": 0.022828,
     "end_time": "2023-06-28T18:01:18.114466",
     "exception": false,
     "start_time": "2023-06-28T18:01:18.091638",
     "status": "completed"
    },
    "tags": []
   },
   "outputs": [
    {
     "data": {
      "text/plain": [
       "0"
      ]
     },
     "execution_count": 19,
     "metadata": {},
     "output_type": "execute_result"
    }
   ],
   "source": [
    "df[\"LotFrontage\"].isna().sum()"
   ]
  },
  {
   "cell_type": "markdown",
   "id": "293f5268",
   "metadata": {
    "papermill": {
     "duration": 0.010933,
     "end_time": "2023-06-28T18:01:18.136841",
     "exception": false,
     "start_time": "2023-06-28T18:01:18.125908",
     "status": "completed"
    },
    "tags": []
   },
   "source": [
    "## 4.) Handling NaN in String Column\n",
    "\n",
    "For String data type we could either remove them as shown previously or we could replace them with something else that we want"
   ]
  },
  {
   "cell_type": "code",
   "execution_count": 20,
   "id": "68dae603",
   "metadata": {
    "execution": {
     "iopub.execute_input": "2023-06-28T18:01:18.161290Z",
     "iopub.status.busy": "2023-06-28T18:01:18.160918Z",
     "iopub.status.idle": "2023-06-28T18:01:18.169582Z",
     "shell.execute_reply": "2023-06-28T18:01:18.168415Z"
    },
    "papermill": {
     "duration": 0.023827,
     "end_time": "2023-06-28T18:01:18.171927",
     "exception": false,
     "start_time": "2023-06-28T18:01:18.148100",
     "status": "completed"
    },
    "tags": []
   },
   "outputs": [
    {
     "data": {
      "text/plain": [
       "array([nan, 'Grvl', 'Pave'], dtype=object)"
      ]
     },
     "execution_count": 20,
     "metadata": {},
     "output_type": "execute_result"
    }
   ],
   "source": [
    "str_df[\"Alley\"].unique()"
   ]
  },
  {
   "cell_type": "code",
   "execution_count": 21,
   "id": "183d1ac4",
   "metadata": {
    "execution": {
     "iopub.execute_input": "2023-06-28T18:01:18.196907Z",
     "iopub.status.busy": "2023-06-28T18:01:18.196493Z",
     "iopub.status.idle": "2023-06-28T18:01:18.206009Z",
     "shell.execute_reply": "2023-06-28T18:01:18.204864Z"
    },
    "papermill": {
     "duration": 0.024984,
     "end_time": "2023-06-28T18:01:18.208525",
     "exception": false,
     "start_time": "2023-06-28T18:01:18.183541",
     "status": "completed"
    },
    "tags": []
   },
   "outputs": [
    {
     "data": {
      "text/plain": [
       "array(['NA', 'Grvl', 'Pave'], dtype=object)"
      ]
     },
     "execution_count": 21,
     "metadata": {},
     "output_type": "execute_result"
    }
   ],
   "source": [
    "# replace NaN to \"NA\"\n",
    "str_df[\"Alley\"] = str_df[\"Alley\"].replace(to_replace = np.nan, value =\"NA\")\n",
    "str_df[\"Alley\"].unique()"
   ]
  },
  {
   "cell_type": "markdown",
   "id": "d9e17613",
   "metadata": {
    "papermill": {
     "duration": 0.01125,
     "end_time": "2023-06-28T18:01:18.231596",
     "exception": false,
     "start_time": "2023-06-28T18:01:18.220346",
     "status": "completed"
    },
    "tags": []
   },
   "source": [
    "## Conclusion\n",
    "##### These are just some of the mostly used methods. Depending on your use case the method used may vary  "
   ]
  },
  {
   "cell_type": "code",
   "execution_count": null,
   "id": "aaa4fc62",
   "metadata": {
    "papermill": {
     "duration": 0.011318,
     "end_time": "2023-06-28T18:01:18.254423",
     "exception": false,
     "start_time": "2023-06-28T18:01:18.243105",
     "status": "completed"
    },
    "tags": []
   },
   "outputs": [],
   "source": []
  }
 ],
 "metadata": {
  "kernelspec": {
   "display_name": "Python 3",
   "language": "python",
   "name": "python3"
  },
  "language_info": {
   "codemirror_mode": {
    "name": "ipython",
    "version": 3
   },
   "file_extension": ".py",
   "mimetype": "text/x-python",
   "name": "python",
   "nbconvert_exporter": "python",
   "pygments_lexer": "ipython3",
   "version": "3.10.10"
  },
  "papermill": {
   "default_parameters": {},
   "duration": 14.146827,
   "end_time": "2023-06-28T18:01:19.087210",
   "environment_variables": {},
   "exception": null,
   "input_path": "__notebook__.ipynb",
   "output_path": "__notebook__.ipynb",
   "parameters": {},
   "start_time": "2023-06-28T18:01:04.940383",
   "version": "2.4.0"
  }
 },
 "nbformat": 4,
 "nbformat_minor": 5
}
